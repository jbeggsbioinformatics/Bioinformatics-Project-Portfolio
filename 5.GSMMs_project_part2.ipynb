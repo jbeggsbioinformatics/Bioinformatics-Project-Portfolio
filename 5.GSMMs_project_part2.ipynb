{
 "cells": [
  {
   "cell_type": "markdown",
   "id": "2cad0e88",
   "metadata": {},
   "source": [
    "# Exercise on Genome Scale Metabolic Models - LIFE752 - cycle 2 part 1 (2)\n"
   ]
  },
  {
   "cell_type": "markdown",
   "id": "b1be8f90",
   "metadata": {},
   "source": [
    "First we need to import the cobra library"
   ]
  },
  {
   "cell_type": "code",
   "execution_count": 25,
   "id": "2d452c32",
   "metadata": {},
   "outputs": [],
   "source": [
    "import cobra"
   ]
  },
  {
   "cell_type": "markdown",
   "id": "61c8479f",
   "metadata": {},
   "source": [
    "load the e. coli model provided."
   ]
  },
  {
   "cell_type": "code",
   "execution_count": 26,
   "id": "3143b292",
   "metadata": {},
   "outputs": [],
   "source": [
    "model = cobra.io.read_sbml_model('e_coli_core_life752.xml')\n"
   ]
  },
  {
   "cell_type": "code",
   "execution_count": 27,
   "id": "12e4563b",
   "metadata": {},
   "outputs": [
    {
     "data": {
      "text/html": [
       "\n",
       "        <table>\n",
       "            <tr>\n",
       "                <td><strong>Name</strong></td>\n",
       "                <td>e_coli_core</td>\n",
       "            </tr><tr>\n",
       "                <td><strong>Memory address</strong></td>\n",
       "                <td>15070af40</td>\n",
       "            </tr><tr>\n",
       "                <td><strong>Number of metabolites</strong></td>\n",
       "                <td>72</td>\n",
       "            </tr><tr>\n",
       "                <td><strong>Number of reactions</strong></td>\n",
       "                <td>95</td>\n",
       "            </tr><tr>\n",
       "                <td><strong>Number of genes</strong></td>\n",
       "                <td>137</td>\n",
       "            </tr><tr>\n",
       "                <td><strong>Number of groups</strong></td>\n",
       "                <td>0</td>\n",
       "            </tr><tr>\n",
       "                <td><strong>Objective expression</strong></td>\n",
       "                <td>1.0*BIOMASS_Ecoli_core_w_GAM - 1.0*BIOMASS_Ecoli_core_w_GAM_reverse_712e5</td>\n",
       "            </tr><tr>\n",
       "                <td><strong>Compartments</strong></td>\n",
       "                <td>extracellular space, cytosol</td>\n",
       "            </tr>\n",
       "          </table>"
      ],
      "text/plain": [
       "<Model e_coli_core at 0x15070af40>"
      ]
     },
     "execution_count": 27,
     "metadata": {},
     "output_type": "execute_result"
    }
   ],
   "source": [
    "model"
   ]
  },
  {
   "cell_type": "markdown",
   "id": "685723bb",
   "metadata": {},
   "source": []
  },
  {
   "cell_type": "markdown",
   "id": "e28d95c9",
   "metadata": {},
   "source": [
    "printing of the current constraints on the exchange reactions showing which metabolites are allowed to take up\n"
   ]
  },
  {
   "cell_type": "code",
   "execution_count": 28,
   "id": "35ec3937",
   "metadata": {},
   "outputs": [
    {
     "data": {
      "text/plain": [
       "{'EX_co2_e': 1000.0,\n",
       " 'EX_glc__D_e': 15.0,\n",
       " 'EX_glu__L_e': 2.0,\n",
       " 'EX_h_e': 1000.0,\n",
       " 'EX_h2o_e': 1000.0,\n",
       " 'EX_nh4_e': 1000.0,\n",
       " 'EX_o2_e': 1000.0,\n",
       " 'EX_pi_e': 1000.0}"
      ]
     },
     "execution_count": 28,
     "metadata": {},
     "output_type": "execute_result"
    }
   ],
   "source": [
    "model.medium"
   ]
  },
  {
   "cell_type": "markdown",
   "id": "99943ddf",
   "metadata": {},
   "source": [
    "Running of FBA, to predict max growth rate\n",
    "\n"
   ]
  },
  {
   "cell_type": "code",
   "execution_count": 29,
   "id": "a3da10d8",
   "metadata": {},
   "outputs": [
    {
     "data": {
      "text/html": [
       "<h3>Objective</h3><p>1.0 BIOMASS_Ecoli_core_w_GAM = 1.4697423584066123</p><h4>Uptake</h4><table border=\"1\" class=\"dataframe\">\n",
       "  <thead>\n",
       "    <tr style=\"text-align: right;\">\n",
       "      <th>Metabolite</th>\n",
       "      <th>Reaction</th>\n",
       "      <th>Flux</th>\n",
       "      <th>C-Number</th>\n",
       "      <th>C-Flux</th>\n",
       "    </tr>\n",
       "  </thead>\n",
       "  <tbody>\n",
       "    <tr>\n",
       "      <td>glc__D_e</td>\n",
       "      <td>EX_glc__D_e</td>\n",
       "      <td>15</td>\n",
       "      <td>6</td>\n",
       "      <td>90.00%</td>\n",
       "    </tr>\n",
       "    <tr>\n",
       "      <td>glu__L_e</td>\n",
       "      <td>EX_glu__L_e</td>\n",
       "      <td>2</td>\n",
       "      <td>5</td>\n",
       "      <td>10.00%</td>\n",
       "    </tr>\n",
       "    <tr>\n",
       "      <td>nh4_e</td>\n",
       "      <td>EX_nh4_e</td>\n",
       "      <td>6.014</td>\n",
       "      <td>0</td>\n",
       "      <td>0.00%</td>\n",
       "    </tr>\n",
       "    <tr>\n",
       "      <td>o2_e</td>\n",
       "      <td>EX_o2_e</td>\n",
       "      <td>34.76</td>\n",
       "      <td>0</td>\n",
       "      <td>0.00%</td>\n",
       "    </tr>\n",
       "    <tr>\n",
       "      <td>pi_e</td>\n",
       "      <td>EX_pi_e</td>\n",
       "      <td>5.407</td>\n",
       "      <td>0</td>\n",
       "      <td>0.00%</td>\n",
       "    </tr>\n",
       "  </tbody>\n",
       "</table><h4>Secretion</h4><table border=\"1\" class=\"dataframe\">\n",
       "  <thead>\n",
       "    <tr style=\"text-align: right;\">\n",
       "      <th>Metabolite</th>\n",
       "      <th>Reaction</th>\n",
       "      <th>Flux</th>\n",
       "      <th>C-Number</th>\n",
       "      <th>C-Flux</th>\n",
       "    </tr>\n",
       "  </thead>\n",
       "  <tbody>\n",
       "    <tr>\n",
       "      <td>co2_e</td>\n",
       "      <td>EX_co2_e</td>\n",
       "      <td>-37.45</td>\n",
       "      <td>1</td>\n",
       "      <td>100.00%</td>\n",
       "    </tr>\n",
       "    <tr>\n",
       "      <td>h2o_e</td>\n",
       "      <td>EX_h2o_e</td>\n",
       "      <td>-44.16</td>\n",
       "      <td>0</td>\n",
       "      <td>0.00%</td>\n",
       "    </tr>\n",
       "    <tr>\n",
       "      <td>h_e</td>\n",
       "      <td>EX_h_e</td>\n",
       "      <td>-25.48</td>\n",
       "      <td>0</td>\n",
       "      <td>0.00%</td>\n",
       "    </tr>\n",
       "  </tbody>\n",
       "</table>"
      ],
      "text/plain": [
       "<cobra.summary.model_summary.ModelSummary at 0x150869580>"
      ]
     },
     "execution_count": 29,
     "metadata": {},
     "output_type": "execute_result"
    }
   ],
   "source": [
    "model.optimize()\n",
    "model.summary()"
   ]
  },
  {
   "cell_type": "markdown",
   "id": "7074960d",
   "metadata": {},
   "source": [
    "From the model.summary() output we can easily see what the maximum growth rate is."
   ]
  },
  {
   "cell_type": "code",
   "execution_count": 30,
   "id": "d9aa655f",
   "metadata": {},
   "outputs": [
    {
     "data": {
      "text/plain": [
       "1.4697423584066123"
      ]
     },
     "execution_count": 30,
     "metadata": {},
     "output_type": "execute_result"
    }
   ],
   "source": [
    "model.reactions.BIOMASS_Ecoli_core_w_GAM.flux #max growth rate"
   ]
  },
  {
   "cell_type": "markdown",
   "id": "aa5ad5e4",
   "metadata": {},
   "source": [
    "Changing to anaerobic conditions: the exchange reaction for oxygen (set lower bound to 0)"
   ]
  },
  {
   "cell_type": "code",
   "execution_count": 31,
   "id": "4c544045",
   "metadata": {},
   "outputs": [],
   "source": [
    "model.reactions.EX_o2_e.lower_bound=0"
   ]
  },
  {
   "cell_type": "markdown",
   "id": "6e6aa06b",
   "metadata": {},
   "source": [
    "And next simply run FBA again"
   ]
  },
  {
   "cell_type": "code",
   "execution_count": 32,
   "id": "ea91c978",
   "metadata": {},
   "outputs": [
    {
     "data": {
      "text/html": [
       "<h3>Objective</h3><p>1.0 BIOMASS_Ecoli_core_w_GAM = 0.38205148246797693</p><h4>Uptake</h4><table border=\"1\" class=\"dataframe\">\n",
       "  <thead>\n",
       "    <tr style=\"text-align: right;\">\n",
       "      <th>Metabolite</th>\n",
       "      <th>Reaction</th>\n",
       "      <th>Flux</th>\n",
       "      <th>C-Number</th>\n",
       "      <th>C-Flux</th>\n",
       "    </tr>\n",
       "  </thead>\n",
       "  <tbody>\n",
       "    <tr>\n",
       "      <td>glc__D_e</td>\n",
       "      <td>EX_glc__D_e</td>\n",
       "      <td>15</td>\n",
       "      <td>6</td>\n",
       "      <td>90.00%</td>\n",
       "    </tr>\n",
       "    <tr>\n",
       "      <td>glu__L_e</td>\n",
       "      <td>EX_glu__L_e</td>\n",
       "      <td>2</td>\n",
       "      <td>5</td>\n",
       "      <td>10.00%</td>\n",
       "    </tr>\n",
       "    <tr>\n",
       "      <td>h2o_e</td>\n",
       "      <td>EX_h2o_e</td>\n",
       "      <td>12.21</td>\n",
       "      <td>0</td>\n",
       "      <td>0.00%</td>\n",
       "    </tr>\n",
       "    <tr>\n",
       "      <td>nh4_e</td>\n",
       "      <td>EX_nh4_e</td>\n",
       "      <td>0.08325</td>\n",
       "      <td>0</td>\n",
       "      <td>0.00%</td>\n",
       "    </tr>\n",
       "    <tr>\n",
       "      <td>pi_e</td>\n",
       "      <td>EX_pi_e</td>\n",
       "      <td>1.405</td>\n",
       "      <td>0</td>\n",
       "      <td>0.00%</td>\n",
       "    </tr>\n",
       "  </tbody>\n",
       "</table><h4>Secretion</h4><table border=\"1\" class=\"dataframe\">\n",
       "  <thead>\n",
       "    <tr style=\"text-align: right;\">\n",
       "      <th>Metabolite</th>\n",
       "      <th>Reaction</th>\n",
       "      <th>Flux</th>\n",
       "      <th>C-Number</th>\n",
       "      <th>C-Flux</th>\n",
       "    </tr>\n",
       "  </thead>\n",
       "  <tbody>\n",
       "    <tr>\n",
       "      <td>ac_e</td>\n",
       "      <td>EX_ac_e</td>\n",
       "      <td>-11.54</td>\n",
       "      <td>2</td>\n",
       "      <td>27.55%</td>\n",
       "    </tr>\n",
       "    <tr>\n",
       "      <td>co2_e</td>\n",
       "      <td>EX_co2_e</td>\n",
       "      <td>-0.9052</td>\n",
       "      <td>1</td>\n",
       "      <td>1.08%</td>\n",
       "    </tr>\n",
       "    <tr>\n",
       "      <td>etoh_e</td>\n",
       "      <td>EX_etoh_e</td>\n",
       "      <td>-13.48</td>\n",
       "      <td>2</td>\n",
       "      <td>32.20%</td>\n",
       "    </tr>\n",
       "    <tr>\n",
       "      <td>for_e</td>\n",
       "      <td>EX_for_e</td>\n",
       "      <td>-26.45</td>\n",
       "      <td>1</td>\n",
       "      <td>31.58%</td>\n",
       "    </tr>\n",
       "    <tr>\n",
       "      <td>h_e</td>\n",
       "      <td>EX_h_e</td>\n",
       "      <td>-44.82</td>\n",
       "      <td>0</td>\n",
       "      <td>0.00%</td>\n",
       "    </tr>\n",
       "    <tr>\n",
       "      <td>succ_e</td>\n",
       "      <td>EX_succ_e</td>\n",
       "      <td>-1.588</td>\n",
       "      <td>4</td>\n",
       "      <td>7.58%</td>\n",
       "    </tr>\n",
       "  </tbody>\n",
       "</table>"
      ],
      "text/plain": [
       "<cobra.summary.model_summary.ModelSummary at 0x150b3c550>"
      ]
     },
     "execution_count": 32,
     "metadata": {},
     "output_type": "execute_result"
    }
   ],
   "source": [
    "model.optimize()\n",
    "model.summary()"
   ]
  },
  {
   "cell_type": "markdown",
   "id": "204ad33d",
   "metadata": {},
   "source": [
    "\n",
    "\n",
    "To revert to aerobic condition, we bring the lower bound of the exchange reaction for o2 to -1000"
   ]
  },
  {
   "cell_type": "code",
   "execution_count": 33,
   "id": "49598fb2",
   "metadata": {},
   "outputs": [],
   "source": [
    "model.reactions.EX_o2_e.lower_bound=-1000"
   ]
  },
  {
   "cell_type": "markdown",
   "id": "b65b56d8",
   "metadata": {},
   "source": [
    "And then run the FVA analysis with the code below"
   ]
  },
  {
   "cell_type": "code",
   "execution_count": 34,
   "id": "a3e2f553",
   "metadata": {},
   "outputs": [],
   "source": [
    "res = cobra.flux_analysis.flux_variability_analysis(model, fraction_of_optimum=0.9) # fraction_of_optimum set to 0.9"
   ]
  },
  {
   "cell_type": "code",
   "execution_count": 35,
   "id": "b8cc7ddc",
   "metadata": {},
   "outputs": [
    {
     "data": {
      "text/plain": [
       "minimum    0.000\n",
       "maximum    3.724\n",
       "Name: EX_etoh_e, dtype: float64"
      ]
     },
     "execution_count": 35,
     "metadata": {},
     "output_type": "execute_result"
    }
   ],
   "source": [
    "res.loc['EX_etoh_e'] # max ethanol\n"
   ]
  },
  {
   "cell_type": "markdown",
   "id": "82c21179",
   "metadata": {},
   "source": [
    "#Next block reloads the model, using pfba to find max growth. Model is constrained to grow at least at 85% of max growth, with acetate export set as objective function"
   ]
  },
  {
   "cell_type": "code",
   "execution_count": 36,
   "id": "87e97c58",
   "metadata": {},
   "outputs": [
    {
     "name": "stdout",
     "output_type": "stream",
     "text": [
      "Maximum growth rate (pFBA): 798.8666866804758\n",
      "Maximum acetate production rate (EX_ac_e): 1000.0\n"
     ]
    },
    {
     "name": "stderr",
     "output_type": "stream",
     "text": [
      "/Users/alexbeggs/miniforge3/envs/life752_env/lib/python3.8/site-packages/cobra/util/solver.py:554: UserWarning: Solver status is 'infeasible'.\n",
      "  warn(f\"Solver status is '{status}'.\", UserWarning)\n"
     ]
    }
   ],
   "source": [
    "import cobra\n",
    "from cobra.flux_analysis import pfba\n",
    "\n",
    "# Reloading of the model to reset all previous changes\n",
    "model = cobra.io.read_sbml_model('e_coli_core_life752.xml')\n",
    "\n",
    "# pFBA ran to get the maximum growth rate\n",
    "pfba_solution = pfba(model)\n",
    "max_growth = pfba_solution.objective_value\n",
    "print(\"Maximum growth rate (pFBA):\", max_growth)\n",
    "\n",
    "# constrained biomass reaction to ≥85% of max\n",
    "biomass_rxn = model.reactions.get_by_id('BIOMASS_Ecoli_core_w_GAM')\n",
    "biomass_rxn.lower_bound = 0.85 * max_growth\n",
    "\n",
    "# acetate export set as the new objective\n",
    "model.objective = 'EX_ac_e'\n",
    "\n",
    "# set to maximize acetate production\n",
    "acetate_solution = model.optimize()\n",
    "print(\"Maximum acetate production rate (EX_ac_e):\", acetate_solution.objective_value)\n"
   ]
  },
  {
   "cell_type": "markdown",
   "id": "3327e618",
   "metadata": {},
   "source": []
  }
 ],
 "metadata": {
  "kernelspec": {
   "display_name": "life752_env",
   "language": "python",
   "name": "python3"
  },
  "language_info": {
   "codemirror_mode": {
    "name": "ipython",
    "version": 3
   },
   "file_extension": ".py",
   "mimetype": "text/x-python",
   "name": "python",
   "nbconvert_exporter": "python",
   "pygments_lexer": "ipython3",
   "version": "3.8.20"
  }
 },
 "nbformat": 4,
 "nbformat_minor": 5
}
